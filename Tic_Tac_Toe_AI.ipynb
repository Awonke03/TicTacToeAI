{
  "nbformat": 4,
  "nbformat_minor": 0,
  "metadata": {
    "colab": {
      "provenance": [],
      "authorship_tag": "ABX9TyPG2bJpuGX0OB20HqdcQynk",
      "include_colab_link": true
    },
    "kernelspec": {
      "name": "python3",
      "display_name": "Python 3"
    },
    "language_info": {
      "name": "python"
    }
  },
  "cells": [
    {
      "cell_type": "markdown",
      "metadata": {
        "id": "view-in-github",
        "colab_type": "text"
      },
      "source": [
        "<a href=\"https://colab.research.google.com/github/Awonke03/TicTacToeAI/blob/main/Tic_Tac_Toe_AI.ipynb\" target=\"_parent\"><img src=\"https://colab.research.google.com/assets/colab-badge.svg\" alt=\"Open In Colab\"/></a>"
      ]
    },
    {
      "cell_type": "code",
      "source": [
        "import random\n",
        "\n",
        "def print_board(board):\n",
        "    for row in board:\n",
        "        print(\" | \".join(row))\n",
        "        print(\"---------\")\n",
        "\n",
        "def is_winner(board, player):\n",
        "    # Check rows, columns, and diagonals for a win\n",
        "    for i in range(3):\n",
        "        if all(board[i][j] == player for j in range(3)) or all(board[j][i] == player for j in range(3)):\n",
        "            return True\n",
        "    if all(board[i][i] == player for i in range(3)) or all(board[i][2 - i] == player for i in range(3)):\n",
        "        return True\n",
        "    return False\n"
      ],
      "metadata": {
        "id": "JoOdK3dJYby8"
      },
      "execution_count": 6,
      "outputs": []
    },
    {
      "cell_type": "code",
      "source": [
        "def is_board_full(board):\n",
        "    # Check if the board is full\n",
        "    return all(board[i][j] != ' ' for i in range(3) for j in range(3))\n",
        "\n",
        "def get_empty_cells(board):\n",
        "    # Return a list of empty cells on the board\n",
        "    return [(i, j) for i in range(3) for j in range(3) if board[i][j] == ' ']\n",
        "\n",
        "def minimax(board, depth, maximizing_player):\n",
        "    if is_winner(board, 'X'):\n",
        "        return -1\n",
        "    elif is_winner(board, 'O'):\n",
        "        return 1\n",
        "    elif is_board_full(board):\n",
        "        return 0\n",
        "\n",
        "    if maximizing_player:\n",
        "        max_eval = float('-inf')\n",
        "        for i, j in get_empty_cells(board):\n",
        "            board[i][j] = 'O'\n",
        "            eval = minimax(board, depth + 1, False)\n",
        "            board[i][j] = ' '  # Undo the move\n",
        "            max_eval = max(max_eval, eval)\n",
        "        return max_eval\n",
        "    else:\n",
        "        min_eval = float('inf')\n",
        "        for i, j in get_empty_cells(board):\n",
        "            board[i][j] = 'X'\n",
        "            eval = minimax(board, depth + 1, True)\n",
        "            board[i][j] = ' '  # Undo the move\n",
        "            min_eval = min(min_eval, eval)\n",
        "        return min_eval\n"
      ],
      "metadata": {
        "id": "p2Nb6eh2ZiJd"
      },
      "execution_count": 7,
      "outputs": []
    },
    {
      "cell_type": "code",
      "execution_count": 8,
      "metadata": {
        "id": "G_p_7E_DYDc6"
      },
      "outputs": [],
      "source": [
        "def get_best_move(board):\n",
        "    best_val = float('-inf')\n",
        "    best_move = None\n",
        "\n",
        "    for i, j in get_empty_cells(board):\n",
        "        board[i][j] = 'O'\n",
        "        move_val = minimax(board, 0, False)\n",
        "        board[i][j] = ' '  # Undo the move\n",
        "\n",
        "        if move_val > best_val:\n",
        "            best_move = (i, j)\n",
        "            best_val = move_val\n",
        "\n",
        "    return best_move\n",
        "\n",
        "def player_move(board):\n",
        "    while True:\n",
        "        try:\n",
        "            row, col = map(int, input(\"Enter your move (row and column, separated by space): \").split())\n",
        "\n",
        "            # Check if the input is within the valid range\n",
        "            if 0 <= row < 3 and 0 <= col < 3:\n",
        "                if board[row][col] == ' ':\n",
        "                    board[row][col] = 'X'\n",
        "                    break\n",
        "                else:\n",
        "                    print(\"Invalid move. Cell already occupied.\")\n",
        "            else:\n",
        "                print(\"Invalid move. Enter values between 0 and 2 for both row and column.\")\n",
        "        except ValueError:\n",
        "            print(\"Invalid input. Please enter two integers separated by space.\")\n",
        "\n",
        "def check_game_status(board):\n",
        "    if is_winner(board, 'X'):\n",
        "        print_board(board)\n",
        "        print(\"Congratulations! You win!\")\n",
        "        return True\n",
        "\n",
        "    if is_winner(board, 'O'):\n",
        "        print_board(board)\n",
        "        print(\"AI wins! Better luck next time.\")\n",
        "        return True\n",
        "\n",
        "    if is_board_full(board):\n",
        "        print_board(board)\n",
        "        print(\"It's a draw!\")\n",
        "        return True\n",
        "\n",
        "    return False\n",
        "\n"
      ]
    },
    {
      "cell_type": "code",
      "source": [
        "def main():\n",
        "    board = [[' ' for _ in range(3)] for _ in range(3)]\n",
        "\n",
        "    while True:\n",
        "        print_board(board)\n",
        "\n",
        "        # Player's move\n",
        "        player_move(board)\n",
        "\n",
        "        # Check if the player wins or if it's a draw\n",
        "        if check_game_status(board):\n",
        "            break\n",
        "\n",
        "        # AI's move\n",
        "        print(\"AI is making a move...\")\n",
        "        ai_row, ai_col = get_best_move(board)\n",
        "        board[ai_row][ai_col] = 'O'\n",
        "\n",
        "        # Check if the AI wins or if it's a draw\n",
        "        if check_game_status(board):\n",
        "            break\n",
        "\n",
        "if __name__ == \"__main__\":\n",
        "    main()\n"
      ],
      "metadata": {
        "colab": {
          "base_uri": "https://localhost:8080/"
        },
        "id": "UW4lynXjZraJ",
        "outputId": "813fa114-2c60-48e5-a5df-ca141a9b6fad"
      },
      "execution_count": 9,
      "outputs": [
        {
          "output_type": "stream",
          "name": "stdout",
          "text": [
            "  |   |  \n",
            "---------\n",
            "  |   |  \n",
            "---------\n",
            "  |   |  \n",
            "---------\n",
            "Enter your move (row and column, separated by space): 1 2\n",
            "AI is making a move...\n",
            "  |   | O\n",
            "---------\n",
            "  |   | X\n",
            "---------\n",
            "  |   |  \n",
            "---------\n",
            "Enter your move (row and column, separated by space): 1 1\n",
            "AI is making a move...\n",
            "  |   | O\n",
            "---------\n",
            "O | X | X\n",
            "---------\n",
            "  |   |  \n",
            "---------\n",
            "Enter your move (row and column, separated by space): 0 0\n",
            "AI is making a move...\n",
            "X |   | O\n",
            "---------\n",
            "O | X | X\n",
            "---------\n",
            "  |   | O\n",
            "---------\n",
            "Enter your move (row and column, separated by space): 2 2\n",
            "Invalid move. Cell already occupied.\n",
            "Enter your move (row and column, separated by space): 2 1\n",
            "AI is making a move...\n",
            "X | O | O\n",
            "---------\n",
            "O | X | X\n",
            "---------\n",
            "  | X | O\n",
            "---------\n",
            "Enter your move (row and column, separated by space): 1 2\n",
            "Invalid move. Cell already occupied.\n",
            "Enter your move (row and column, separated by space): 0 2\n",
            "Invalid move. Cell already occupied.\n",
            "Enter your move (row and column, separated by space): 2 0\n",
            "X | O | O\n",
            "---------\n",
            "O | X | X\n",
            "---------\n",
            "X | X | O\n",
            "---------\n",
            "It's a draw!\n"
          ]
        }
      ]
    },
    {
      "cell_type": "code",
      "source": [],
      "metadata": {
        "id": "gF7whnIYbZZD"
      },
      "execution_count": null,
      "outputs": []
    }
  ]
}